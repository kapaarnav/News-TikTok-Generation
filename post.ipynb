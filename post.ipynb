{
 "cells": [
  {
   "cell_type": "code",
   "execution_count": 2,
   "metadata": {},
   "outputs": [],
   "source": [
    "from selenium import webdriver\n",
    "from selenium.webdriver.common.by import By\n",
    "from selenium.webdriver.common.keys import Keys\n",
    "from selenium.webdriver.chrome.options import Options\n",
    "from selenium.webdriver.support.ui import WebDriverWait\n",
    "from selenium.webdriver.support import expected_conditions as EC\n",
    "import time"
   ]
  },
  {
   "cell_type": "markdown",
   "metadata": {},
   "source": [
    "Set up selenium bot options"
   ]
  },
  {
   "cell_type": "code",
   "execution_count": 3,
   "metadata": {},
   "outputs": [],
   "source": [
    "# Configure Chrome options\n",
    "chrome_options = Options()\n",
    "chrome_options.add_argument(\"--start-maximized\")\n",
    "chrome_options.add_argument(\"--disable-blink-features=AutomationControlled\")\n",
    "chrome_options.add_experimental_option(\"excludeSwitches\", [\"enable-automation\"])\n",
    "chrome_options.add_experimental_option('useAutomationExtension', False)\n",
    "\n",
    "# Initialize WebDriver\n",
    "driver = webdriver.Chrome(options=chrome_options)\n",
    "\n",
    "# Define an explicit wait\n",
    "wait = WebDriverWait(driver, 20)\n"
   ]
  },
  {
   "cell_type": "markdown",
   "metadata": {},
   "source": [
    "Goes to TikTok and logs in"
   ]
  },
  {
   "cell_type": "code",
   "execution_count": null,
   "metadata": {},
   "outputs": [],
   "source": [
    "driver.get(\"https://www.tiktok.com/login\")\n",
    "\n",
    "# Wait for the login options to load\n",
    "try:\n",
    "    # Example: Click on \"Use phone / email / username\" button\n",
    "    login_button = wait.until(EC.element_to_be_clickable((By.XPATH, \"//button[contains(text(), 'Use phone / email / username')]\")))\n",
    "    login_button.click()\n",
    "\n",
    "    # Enter username/email/phone\n",
    "    username_field = wait.until(EC.presence_of_element_located((By.NAME, \"username\")))\n",
    "    username_field.send_keys(\"whitehouseupdates010\")\n",
    "\n",
    "    # Enter password\n",
    "    password_field = driver.find_element(By.NAME, \"password\")\n",
    "    password_field.send_keys(\"$unwuKong14\")\n",
    "\n",
    "    # Submit the form\n",
    "    password_field.send_keys(Keys.RETURN)\n",
    "\n",
    "    # Wait for login to complete (adjust the condition as needed)\n",
    "    wait.until(EC.presence_of_element_located((By.XPATH, \"//button[contains(text(), 'Upload')]\")))\n",
    "    print(\"Logged in successfully!\")\n",
    "\n",
    "except Exception as e:\n",
    "    print(f\"An error occurred during login: {e}\")\n",
    "    driver.quit()"
   ]
  }
 ],
 "metadata": {
  "kernelspec": {
   "display_name": ".venv",
   "language": "python",
   "name": "python3"
  },
  "language_info": {
   "codemirror_mode": {
    "name": "ipython",
    "version": 3
   },
   "file_extension": ".py",
   "mimetype": "text/x-python",
   "name": "python",
   "nbconvert_exporter": "python",
   "pygments_lexer": "ipython3",
   "version": "3.12.4"
  }
 },
 "nbformat": 4,
 "nbformat_minor": 2
}
